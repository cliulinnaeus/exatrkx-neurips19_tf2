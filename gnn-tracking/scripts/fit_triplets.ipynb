{
 "cells": [
  {
   "cell_type": "markdown",
   "metadata": {},
   "source": [
    "Triplet Track Param Fitting & Classification\n",
    "================================="
   ]
  },
  {
   "cell_type": "markdown",
   "metadata": {},
   "source": [
    "tasks: \n",
    "-----------------\n",
    "Read an event using heptrkx.master\n",
    "Read all triplets from 1 event\n",
    "Look up hitid of each triplets in the event table to get necessary info (pt, pos, …)\n",
    "Fit the triplets to get tracking parameters\n",
    "Classify tracking parameters"
   ]
  },
  {
   "cell_type": "code",
   "execution_count": 12,
   "metadata": {},
   "outputs": [],
   "source": [
    "import sys\n",
    "sys.path.append('/global/homes/c/cheliu/exatrkx-neurips19_tf2/gnn-tracking/heptrkx')\n",
    "\n",
    "import numpy as np\n",
    "import matplotlib.pyplot as plt\n",
    "import tensorflow as tf\n",
    "from heptrkx import master\n",
    "from heptrkx.preprocess.utils_mldata import get_track_parameters\n",
    "from heptrkx.postprocess.trackfitter import conformal_mapping\n",
    "from sklearn.cluster import DBSCAN\n",
    "import pandas as pd\n",
    "from pandas import DataFrame\n",
    "from trackml.score import score_event"
   ]
  },
  {
   "cell_type": "markdown",
   "metadata": {},
   "source": [
    "Data Directories:\n",
    "------------"
   ]
  },
  {
   "cell_type": "code",
   "execution_count": 2,
   "metadata": {},
   "outputs": [],
   "source": [
    "triplets_dir = \"/global/project/projectdirs/m3443/usr/dtmurnane/XY_Triplets_1/\"\n",
    "events_dir = \"/global/cfs/cdirs/m3443/data/trackml-kaggle/train_all/\""
   ]
  },
  {
   "cell_type": "markdown",
   "metadata": {},
   "source": [
    "Event ID:\n",
    "----------"
   ]
  },
  {
   "cell_type": "code",
   "execution_count": 3,
   "metadata": {},
   "outputs": [],
   "source": [
    "evtid = 9919"
   ]
  },
  {
   "cell_type": "markdown",
   "metadata": {},
   "source": [
    "Utility Functions:\n",
    "-------------"
   ]
  },
  {
   "cell_type": "code",
   "execution_count": 4,
   "metadata": {},
   "outputs": [],
   "source": [
    "# Should I remove noise hits?? \n",
    "# returns pandas dataframe for event with evtid\n",
    "def load_event(source_dir, evtid):\n",
    "    event = master.Event(source_dir, evtid)\n",
    "#     event.read(evtid)\n",
    "    event.remove_noise_hits()\n",
    "    event.remove_duplicated_hits()\n",
    "    return event\n",
    "\n",
    "# return pandas dataframe for all triplets in event with evtid\n",
    "def load_triplets(source_dir, evtid):\n",
    "    dir_str = '{}event{}'.format(source_dir, evtid)\n",
    "    df = pd.read_csv(dir_str, names=['evtid', 'hitid0', 'hitid1', 'hitid2'])\n",
    "    #header=['evtid', 'hitid0', 'hitid1', 'hitid2']\n",
    "    return df\n",
    "\n"
   ]
  },
  {
   "cell_type": "code",
   "execution_count": 5,
   "metadata": {},
   "outputs": [],
   "source": [
    "# event has attributes particles, cells, hits, truth, evtid\n",
    "event = load_event(events_dir, evtid)\n",
    "triplets_df = load_triplets(triplets_dir, evtid)"
   ]
  },
  {
   "cell_type": "code",
   "execution_count": 20,
   "metadata": {},
   "outputs": [],
   "source": [
    "# create a df with columns: [evtid, hit_id1, hit_id2, hit_id3, x1, y1, z1, x2, y2, z2, x3, y3, z3]"
   ]
  },
  {
   "cell_type": "code",
   "execution_count": 6,
   "metadata": {},
   "outputs": [
    {
     "data": {
      "text/html": [
       "<div>\n",
       "<style scoped>\n",
       "    .dataframe tbody tr th:only-of-type {\n",
       "        vertical-align: middle;\n",
       "    }\n",
       "\n",
       "    .dataframe tbody tr th {\n",
       "        vertical-align: top;\n",
       "    }\n",
       "\n",
       "    .dataframe thead th {\n",
       "        text-align: right;\n",
       "    }\n",
       "</style>\n",
       "<table border=\"1\" class=\"dataframe\">\n",
       "  <thead>\n",
       "    <tr style=\"text-align: right;\">\n",
       "      <th></th>\n",
       "      <th>hit_id</th>\n",
       "      <th>particle_id</th>\n",
       "      <th>tx</th>\n",
       "      <th>ty</th>\n",
       "      <th>tz</th>\n",
       "      <th>tpx</th>\n",
       "      <th>tpy</th>\n",
       "      <th>tpz</th>\n",
       "      <th>weight</th>\n",
       "    </tr>\n",
       "  </thead>\n",
       "  <tbody>\n",
       "    <tr>\n",
       "      <th>0</th>\n",
       "      <td>1</td>\n",
       "      <td>653028130721628160</td>\n",
       "      <td>-56.447201</td>\n",
       "      <td>-12.05580</td>\n",
       "      <td>-1502.5</td>\n",
       "      <td>-0.304385</td>\n",
       "      <td>-0.043068</td>\n",
       "      <td>-7.98553</td>\n",
       "      <td>0.000008</td>\n",
       "    </tr>\n",
       "    <tr>\n",
       "      <th>1</th>\n",
       "      <td>2</td>\n",
       "      <td>369296612553392128</td>\n",
       "      <td>-73.316803</td>\n",
       "      <td>-11.23460</td>\n",
       "      <td>-1502.5</td>\n",
       "      <td>-0.954215</td>\n",
       "      <td>-0.119488</td>\n",
       "      <td>-19.47550</td>\n",
       "      <td>0.000014</td>\n",
       "    </tr>\n",
       "    <tr>\n",
       "      <th>2</th>\n",
       "      <td>3</td>\n",
       "      <td>765613585920425984</td>\n",
       "      <td>-94.426201</td>\n",
       "      <td>-12.05570</td>\n",
       "      <td>-1502.5</td>\n",
       "      <td>-0.275608</td>\n",
       "      <td>-0.007431</td>\n",
       "      <td>-4.19443</td>\n",
       "      <td>0.000007</td>\n",
       "    </tr>\n",
       "    <tr>\n",
       "      <th>3</th>\n",
       "      <td>4</td>\n",
       "      <td>135115341805125632</td>\n",
       "      <td>-98.233597</td>\n",
       "      <td>-1.99301</td>\n",
       "      <td>-1502.5</td>\n",
       "      <td>-1.899660</td>\n",
       "      <td>-0.068547</td>\n",
       "      <td>-29.04180</td>\n",
       "      <td>0.000025</td>\n",
       "    </tr>\n",
       "    <tr>\n",
       "      <th>4</th>\n",
       "      <td>5</td>\n",
       "      <td>860190346326310912</td>\n",
       "      <td>-58.658901</td>\n",
       "      <td>-5.16357</td>\n",
       "      <td>-1502.5</td>\n",
       "      <td>-0.181605</td>\n",
       "      <td>-0.034195</td>\n",
       "      <td>-4.80375</td>\n",
       "      <td>0.000008</td>\n",
       "    </tr>\n",
       "  </tbody>\n",
       "</table>\n",
       "</div>"
      ],
      "text/plain": [
       "   hit_id         particle_id         tx        ty      tz       tpx  \\\n",
       "0       1  653028130721628160 -56.447201 -12.05580 -1502.5 -0.304385   \n",
       "1       2  369296612553392128 -73.316803 -11.23460 -1502.5 -0.954215   \n",
       "2       3  765613585920425984 -94.426201 -12.05570 -1502.5 -0.275608   \n",
       "3       4  135115341805125632 -98.233597  -1.99301 -1502.5 -1.899660   \n",
       "4       5  860190346326310912 -58.658901  -5.16357 -1502.5 -0.181605   \n",
       "\n",
       "        tpy       tpz    weight  \n",
       "0 -0.043068  -7.98553  0.000008  \n",
       "1 -0.119488 -19.47550  0.000014  \n",
       "2 -0.007431  -4.19443  0.000007  \n",
       "3 -0.068547 -29.04180  0.000025  \n",
       "4 -0.034195  -4.80375  0.000008  "
      ]
     },
     "execution_count": 6,
     "metadata": {},
     "output_type": "execute_result"
    }
   ],
   "source": [
    "event.truth.head()"
   ]
  },
  {
   "cell_type": "code",
   "execution_count": 6,
   "metadata": {},
   "outputs": [
    {
     "data": {
      "text/html": [
       "<div>\n",
       "<style scoped>\n",
       "    .dataframe tbody tr th:only-of-type {\n",
       "        vertical-align: middle;\n",
       "    }\n",
       "\n",
       "    .dataframe tbody tr th {\n",
       "        vertical-align: top;\n",
       "    }\n",
       "\n",
       "    .dataframe thead th {\n",
       "        text-align: right;\n",
       "    }\n",
       "</style>\n",
       "<table border=\"1\" class=\"dataframe\">\n",
       "  <thead>\n",
       "    <tr style=\"text-align: right;\">\n",
       "      <th></th>\n",
       "      <th>evtid</th>\n",
       "      <th>hitid0</th>\n",
       "      <th>hitid1</th>\n",
       "      <th>hitid2</th>\n",
       "    </tr>\n",
       "  </thead>\n",
       "  <tbody>\n",
       "    <tr>\n",
       "      <th>0</th>\n",
       "      <td>9919</td>\n",
       "      <td>14494</td>\n",
       "      <td>14500</td>\n",
       "      <td>22777</td>\n",
       "    </tr>\n",
       "    <tr>\n",
       "      <th>1</th>\n",
       "      <td>9919</td>\n",
       "      <td>16487</td>\n",
       "      <td>16572</td>\n",
       "      <td>24946</td>\n",
       "    </tr>\n",
       "    <tr>\n",
       "      <th>2</th>\n",
       "      <td>9919</td>\n",
       "      <td>22559</td>\n",
       "      <td>22560</td>\n",
       "      <td>29153</td>\n",
       "    </tr>\n",
       "    <tr>\n",
       "      <th>3</th>\n",
       "      <td>9919</td>\n",
       "      <td>14500</td>\n",
       "      <td>22777</td>\n",
       "      <td>29633</td>\n",
       "    </tr>\n",
       "    <tr>\n",
       "      <th>4</th>\n",
       "      <td>9919</td>\n",
       "      <td>14498</td>\n",
       "      <td>23034</td>\n",
       "      <td>30206</td>\n",
       "    </tr>\n",
       "  </tbody>\n",
       "</table>\n",
       "</div>"
      ],
      "text/plain": [
       "   evtid  hitid0  hitid1  hitid2\n",
       "0   9919   14494   14500   22777\n",
       "1   9919   16487   16572   24946\n",
       "2   9919   22559   22560   29153\n",
       "3   9919   14500   22777   29633\n",
       "4   9919   14498   23034   30206"
      ]
     },
     "execution_count": 6,
     "metadata": {},
     "output_type": "execute_result"
    }
   ],
   "source": [
    "triplets_df.head()"
   ]
  },
  {
   "cell_type": "markdown",
   "metadata": {},
   "source": [
    "Merge Triplets DataFrame and Truth DataFrame\n",
    "----------------------------------"
   ]
  },
  {
   "cell_type": "code",
   "execution_count": 7,
   "metadata": {},
   "outputs": [
    {
     "data": {
      "text/html": [
       "<div>\n",
       "<style scoped>\n",
       "    .dataframe tbody tr th:only-of-type {\n",
       "        vertical-align: middle;\n",
       "    }\n",
       "\n",
       "    .dataframe tbody tr th {\n",
       "        vertical-align: top;\n",
       "    }\n",
       "\n",
       "    .dataframe thead th {\n",
       "        text-align: right;\n",
       "    }\n",
       "</style>\n",
       "<table border=\"1\" class=\"dataframe\">\n",
       "  <thead>\n",
       "    <tr style=\"text-align: right;\">\n",
       "      <th></th>\n",
       "      <th>evtid</th>\n",
       "      <th>hit_id0</th>\n",
       "      <th>particle_id0</th>\n",
       "      <th>tx0</th>\n",
       "      <th>ty0</th>\n",
       "      <th>tz0</th>\n",
       "      <th>hit_id1</th>\n",
       "      <th>particle_id1</th>\n",
       "      <th>tx1</th>\n",
       "      <th>ty1</th>\n",
       "      <th>tz1</th>\n",
       "      <th>hit_id2</th>\n",
       "      <th>particle_id2</th>\n",
       "      <th>tx2</th>\n",
       "      <th>ty2</th>\n",
       "      <th>tz2</th>\n",
       "    </tr>\n",
       "  </thead>\n",
       "  <tbody>\n",
       "    <tr>\n",
       "      <th>0</th>\n",
       "      <td>9919</td>\n",
       "      <td>14494</td>\n",
       "      <td>72061304906457090</td>\n",
       "      <td>-23.116699</td>\n",
       "      <td>22.170601</td>\n",
       "      <td>-465.843994</td>\n",
       "      <td>14500</td>\n",
       "      <td>72061304906457090</td>\n",
       "      <td>-24.460899</td>\n",
       "      <td>22.802200</td>\n",
       "      <td>-466.221008</td>\n",
       "      <td>22777</td>\n",
       "      <td>72061304906452993</td>\n",
       "      <td>-56.504501</td>\n",
       "      <td>44.760799</td>\n",
       "      <td>-455.858002</td>\n",
       "    </tr>\n",
       "    <tr>\n",
       "      <th>1</th>\n",
       "      <td>9919</td>\n",
       "      <td>16487</td>\n",
       "      <td>774619410802417666</td>\n",
       "      <td>-29.047899</td>\n",
       "      <td>12.142700</td>\n",
       "      <td>-89.785896</td>\n",
       "      <td>16572</td>\n",
       "      <td>774619410802417666</td>\n",
       "      <td>-30.788099</td>\n",
       "      <td>12.431200</td>\n",
       "      <td>-89.771797</td>\n",
       "      <td>24946</td>\n",
       "      <td>774619410802417666</td>\n",
       "      <td>-68.758102</td>\n",
       "      <td>20.201099</td>\n",
       "      <td>-89.294197</td>\n",
       "    </tr>\n",
       "    <tr>\n",
       "      <th>2</th>\n",
       "      <td>9919</td>\n",
       "      <td>16487</td>\n",
       "      <td>774619410802417666</td>\n",
       "      <td>-29.047899</td>\n",
       "      <td>12.142700</td>\n",
       "      <td>-89.785896</td>\n",
       "      <td>24946</td>\n",
       "      <td>774619410802417666</td>\n",
       "      <td>-68.758102</td>\n",
       "      <td>20.201099</td>\n",
       "      <td>-89.294197</td>\n",
       "      <td>31695</td>\n",
       "      <td>774619410802417666</td>\n",
       "      <td>-110.783997</td>\n",
       "      <td>32.755001</td>\n",
       "      <td>-88.997299</td>\n",
       "    </tr>\n",
       "    <tr>\n",
       "      <th>3</th>\n",
       "      <td>9919</td>\n",
       "      <td>16572</td>\n",
       "      <td>774619410802417666</td>\n",
       "      <td>-30.788099</td>\n",
       "      <td>12.431200</td>\n",
       "      <td>-89.771797</td>\n",
       "      <td>24946</td>\n",
       "      <td>774619410802417666</td>\n",
       "      <td>-68.758102</td>\n",
       "      <td>20.201099</td>\n",
       "      <td>-89.294197</td>\n",
       "      <td>31695</td>\n",
       "      <td>774619410802417666</td>\n",
       "      <td>-110.783997</td>\n",
       "      <td>32.755001</td>\n",
       "      <td>-88.997299</td>\n",
       "    </tr>\n",
       "    <tr>\n",
       "      <th>4</th>\n",
       "      <td>9919</td>\n",
       "      <td>22559</td>\n",
       "      <td>675548877654331393</td>\n",
       "      <td>-29.580500</td>\n",
       "      <td>12.178000</td>\n",
       "      <td>417.037994</td>\n",
       "      <td>22560</td>\n",
       "      <td>675548877654331393</td>\n",
       "      <td>-31.249701</td>\n",
       "      <td>13.039500</td>\n",
       "      <td>416.941010</td>\n",
       "      <td>29153</td>\n",
       "      <td>675548877654331393</td>\n",
       "      <td>-64.584396</td>\n",
       "      <td>31.693600</td>\n",
       "      <td>414.859009</td>\n",
       "    </tr>\n",
       "  </tbody>\n",
       "</table>\n",
       "</div>"
      ],
      "text/plain": [
       "   evtid  hit_id0        particle_id0        tx0        ty0         tz0  \\\n",
       "0   9919    14494   72061304906457090 -23.116699  22.170601 -465.843994   \n",
       "1   9919    16487  774619410802417666 -29.047899  12.142700  -89.785896   \n",
       "2   9919    16487  774619410802417666 -29.047899  12.142700  -89.785896   \n",
       "3   9919    16572  774619410802417666 -30.788099  12.431200  -89.771797   \n",
       "4   9919    22559  675548877654331393 -29.580500  12.178000  417.037994   \n",
       "\n",
       "   hit_id1        particle_id1        tx1        ty1         tz1  hit_id2  \\\n",
       "0    14500   72061304906457090 -24.460899  22.802200 -466.221008    22777   \n",
       "1    16572  774619410802417666 -30.788099  12.431200  -89.771797    24946   \n",
       "2    24946  774619410802417666 -68.758102  20.201099  -89.294197    31695   \n",
       "3    24946  774619410802417666 -68.758102  20.201099  -89.294197    31695   \n",
       "4    22560  675548877654331393 -31.249701  13.039500  416.941010    29153   \n",
       "\n",
       "         particle_id2         tx2        ty2         tz2  \n",
       "0   72061304906452993  -56.504501  44.760799 -455.858002  \n",
       "1  774619410802417666  -68.758102  20.201099  -89.294197  \n",
       "2  774619410802417666 -110.783997  32.755001  -88.997299  \n",
       "3  774619410802417666 -110.783997  32.755001  -88.997299  \n",
       "4  675548877654331393  -64.584396  31.693600  414.859009  "
      ]
     },
     "execution_count": 7,
     "metadata": {},
     "output_type": "execute_result"
    }
   ],
   "source": [
    "truth_df = event.truth\n",
    "# event_table == triplets_df\n",
    "full_df = pd.DataFrame.copy(triplets_df)\n",
    "for counter in range(3):\n",
    "    leftColumn = \"hitid\" + str(counter)\n",
    "    clean_truth_df = pd.DataFrame.copy(truth_df)\n",
    "    clean_truth_df = clean_truth_df.drop(columns=[\"tpx\", \"tpy\", \"tpz\", \"weight\"])\n",
    "    clean_truth_df = clean_truth_df.rename(columns=(lambda colName: colName + str(counter)))\n",
    "    full_df = pd.merge(full_df, clean_truth_df, left_on=leftColumn, right_on=(\"hit_id\" + str(counter)))\n",
    "full_df = full_df.drop(columns=[full_df.columns[i] for i in range(1, 4)])\n",
    "full_df.head()"
   ]
  },
  {
   "cell_type": "markdown",
   "metadata": {},
   "source": [
    "Compute Tracking Parameters for Each Triplet\n",
    "--------------------------------------"
   ]
  },
  {
   "cell_type": "code",
   "execution_count": null,
   "metadata": {},
   "outputs": [],
   "source": []
  },
  {
   "cell_type": "code",
   "execution_count": 8,
   "metadata": {},
   "outputs": [
    {
     "data": {
      "text/html": [
       "<div>\n",
       "<style scoped>\n",
       "    .dataframe tbody tr th:only-of-type {\n",
       "        vertical-align: middle;\n",
       "    }\n",
       "\n",
       "    .dataframe tbody tr th {\n",
       "        vertical-align: top;\n",
       "    }\n",
       "\n",
       "    .dataframe thead th {\n",
       "        text-align: right;\n",
       "    }\n",
       "</style>\n",
       "<table border=\"1\" class=\"dataframe\">\n",
       "  <thead>\n",
       "    <tr style=\"text-align: right;\">\n",
       "      <th></th>\n",
       "      <th>tx0</th>\n",
       "      <th>tx1</th>\n",
       "      <th>tx2</th>\n",
       "      <th>ty0</th>\n",
       "      <th>ty1</th>\n",
       "      <th>ty2</th>\n",
       "      <th>tz0</th>\n",
       "      <th>tz1</th>\n",
       "      <th>tz2</th>\n",
       "    </tr>\n",
       "  </thead>\n",
       "  <tbody>\n",
       "    <tr>\n",
       "      <th>0</th>\n",
       "      <td>-23.116699</td>\n",
       "      <td>-24.460899</td>\n",
       "      <td>-56.504501</td>\n",
       "      <td>22.170601</td>\n",
       "      <td>22.802200</td>\n",
       "      <td>44.760799</td>\n",
       "      <td>-465.843994</td>\n",
       "      <td>-466.221008</td>\n",
       "      <td>-455.858002</td>\n",
       "    </tr>\n",
       "    <tr>\n",
       "      <th>1</th>\n",
       "      <td>-29.047899</td>\n",
       "      <td>-30.788099</td>\n",
       "      <td>-68.758102</td>\n",
       "      <td>12.142700</td>\n",
       "      <td>12.431200</td>\n",
       "      <td>20.201099</td>\n",
       "      <td>-89.785896</td>\n",
       "      <td>-89.771797</td>\n",
       "      <td>-89.294197</td>\n",
       "    </tr>\n",
       "    <tr>\n",
       "      <th>2</th>\n",
       "      <td>-29.047899</td>\n",
       "      <td>-68.758102</td>\n",
       "      <td>-110.783997</td>\n",
       "      <td>12.142700</td>\n",
       "      <td>20.201099</td>\n",
       "      <td>32.755001</td>\n",
       "      <td>-89.785896</td>\n",
       "      <td>-89.294197</td>\n",
       "      <td>-88.997299</td>\n",
       "    </tr>\n",
       "    <tr>\n",
       "      <th>3</th>\n",
       "      <td>-30.788099</td>\n",
       "      <td>-68.758102</td>\n",
       "      <td>-110.783997</td>\n",
       "      <td>12.431200</td>\n",
       "      <td>20.201099</td>\n",
       "      <td>32.755001</td>\n",
       "      <td>-89.771797</td>\n",
       "      <td>-89.294197</td>\n",
       "      <td>-88.997299</td>\n",
       "    </tr>\n",
       "    <tr>\n",
       "      <th>4</th>\n",
       "      <td>-29.580500</td>\n",
       "      <td>-31.249701</td>\n",
       "      <td>-64.584396</td>\n",
       "      <td>12.178000</td>\n",
       "      <td>13.039500</td>\n",
       "      <td>31.693600</td>\n",
       "      <td>417.037994</td>\n",
       "      <td>416.941010</td>\n",
       "      <td>414.859009</td>\n",
       "    </tr>\n",
       "  </tbody>\n",
       "</table>\n",
       "</div>"
      ],
      "text/plain": [
       "         tx0        tx1         tx2        ty0        ty1        ty2  \\\n",
       "0 -23.116699 -24.460899  -56.504501  22.170601  22.802200  44.760799   \n",
       "1 -29.047899 -30.788099  -68.758102  12.142700  12.431200  20.201099   \n",
       "2 -29.047899 -68.758102 -110.783997  12.142700  20.201099  32.755001   \n",
       "3 -30.788099 -68.758102 -110.783997  12.431200  20.201099  32.755001   \n",
       "4 -29.580500 -31.249701  -64.584396  12.178000  13.039500  31.693600   \n",
       "\n",
       "          tz0         tz1         tz2  \n",
       "0 -465.843994 -466.221008 -455.858002  \n",
       "1  -89.785896  -89.771797  -89.294197  \n",
       "2  -89.785896  -89.294197  -88.997299  \n",
       "3  -89.771797  -89.294197  -88.997299  \n",
       "4  417.037994  416.941010  414.859009  "
      ]
     },
     "execution_count": 8,
     "metadata": {},
     "output_type": "execute_result"
    }
   ],
   "source": [
    "pos_df = full_df[['tx0', 'tx1', 'tx2', 'ty0', 'ty1', 'ty2', 'tz0', 'tz1', 'tz2']]\n",
    "pos_df.head()\n"
   ]
  },
  {
   "cell_type": "code",
   "execution_count": 9,
   "metadata": {},
   "outputs": [
    {
     "name": "stdout",
     "output_type": "stream",
     "text": [
      "[-23.1167 -24.4609 -56.5045]\n",
      "[22.1706 22.8022 44.7608]\n",
      "[-465.844 -466.221 -455.858]\n"
     ]
    },
    {
     "ename": "IndexError",
     "evalue": "invalid index to scalar variable.",
     "output_type": "error",
     "traceback": [
      "\u001b[0;31m---------------------------------------------------------------------------\u001b[0m",
      "\u001b[0;31mIndexError\u001b[0m                                Traceback (most recent call last)",
      "\u001b[0;32m<timed exec>\u001b[0m in \u001b[0;36m<module>\u001b[0;34m\u001b[0m\n",
      "\u001b[0;32m~/.conda/envs/upgrade/lib/python3.7/site-packages/pandas/core/frame.py\u001b[0m in \u001b[0;36mapply\u001b[0;34m(self, func, axis, raw, result_type, args, **kwds)\u001b[0m\n\u001b[1;32m   6873\u001b[0m             \u001b[0mkwds\u001b[0m\u001b[0;34m=\u001b[0m\u001b[0mkwds\u001b[0m\u001b[0;34m,\u001b[0m\u001b[0;34m\u001b[0m\u001b[0;34m\u001b[0m\u001b[0m\n\u001b[1;32m   6874\u001b[0m         )\n\u001b[0;32m-> 6875\u001b[0;31m         \u001b[0;32mreturn\u001b[0m \u001b[0mop\u001b[0m\u001b[0;34m.\u001b[0m\u001b[0mget_result\u001b[0m\u001b[0;34m(\u001b[0m\u001b[0;34m)\u001b[0m\u001b[0;34m\u001b[0m\u001b[0;34m\u001b[0m\u001b[0m\n\u001b[0m\u001b[1;32m   6876\u001b[0m \u001b[0;34m\u001b[0m\u001b[0m\n\u001b[1;32m   6877\u001b[0m     \u001b[0;32mdef\u001b[0m \u001b[0mapplymap\u001b[0m\u001b[0;34m(\u001b[0m\u001b[0mself\u001b[0m\u001b[0;34m,\u001b[0m \u001b[0mfunc\u001b[0m\u001b[0;34m)\u001b[0m \u001b[0;34m->\u001b[0m \u001b[0;34m\"DataFrame\"\u001b[0m\u001b[0;34m:\u001b[0m\u001b[0;34m\u001b[0m\u001b[0;34m\u001b[0m\u001b[0m\n",
      "\u001b[0;32m~/.conda/envs/upgrade/lib/python3.7/site-packages/pandas/core/apply.py\u001b[0m in \u001b[0;36mget_result\u001b[0;34m(self)\u001b[0m\n\u001b[1;32m    184\u001b[0m             \u001b[0;32mreturn\u001b[0m \u001b[0mself\u001b[0m\u001b[0;34m.\u001b[0m\u001b[0mapply_raw\u001b[0m\u001b[0;34m(\u001b[0m\u001b[0;34m)\u001b[0m\u001b[0;34m\u001b[0m\u001b[0;34m\u001b[0m\u001b[0m\n\u001b[1;32m    185\u001b[0m \u001b[0;34m\u001b[0m\u001b[0m\n\u001b[0;32m--> 186\u001b[0;31m         \u001b[0;32mreturn\u001b[0m \u001b[0mself\u001b[0m\u001b[0;34m.\u001b[0m\u001b[0mapply_standard\u001b[0m\u001b[0;34m(\u001b[0m\u001b[0;34m)\u001b[0m\u001b[0;34m\u001b[0m\u001b[0;34m\u001b[0m\u001b[0m\n\u001b[0m\u001b[1;32m    187\u001b[0m \u001b[0;34m\u001b[0m\u001b[0m\n\u001b[1;32m    188\u001b[0m     \u001b[0;32mdef\u001b[0m \u001b[0mapply_empty_result\u001b[0m\u001b[0;34m(\u001b[0m\u001b[0mself\u001b[0m\u001b[0;34m)\u001b[0m\u001b[0;34m:\u001b[0m\u001b[0;34m\u001b[0m\u001b[0;34m\u001b[0m\u001b[0m\n",
      "\u001b[0;32m~/.conda/envs/upgrade/lib/python3.7/site-packages/pandas/core/apply.py\u001b[0m in \u001b[0;36mapply_standard\u001b[0;34m(self)\u001b[0m\n\u001b[1;32m    294\u001b[0m             \u001b[0;32mtry\u001b[0m\u001b[0;34m:\u001b[0m\u001b[0;34m\u001b[0m\u001b[0;34m\u001b[0m\u001b[0m\n\u001b[1;32m    295\u001b[0m                 result = libreduction.compute_reduction(\n\u001b[0;32m--> 296\u001b[0;31m                     \u001b[0mvalues\u001b[0m\u001b[0;34m,\u001b[0m \u001b[0mself\u001b[0m\u001b[0;34m.\u001b[0m\u001b[0mf\u001b[0m\u001b[0;34m,\u001b[0m \u001b[0maxis\u001b[0m\u001b[0;34m=\u001b[0m\u001b[0mself\u001b[0m\u001b[0;34m.\u001b[0m\u001b[0maxis\u001b[0m\u001b[0;34m,\u001b[0m \u001b[0mdummy\u001b[0m\u001b[0;34m=\u001b[0m\u001b[0mdummy\u001b[0m\u001b[0;34m,\u001b[0m \u001b[0mlabels\u001b[0m\u001b[0;34m=\u001b[0m\u001b[0mlabels\u001b[0m\u001b[0;34m\u001b[0m\u001b[0;34m\u001b[0m\u001b[0m\n\u001b[0m\u001b[1;32m    297\u001b[0m                 )\n\u001b[1;32m    298\u001b[0m             \u001b[0;32mexcept\u001b[0m \u001b[0mValueError\u001b[0m \u001b[0;32mas\u001b[0m \u001b[0merr\u001b[0m\u001b[0;34m:\u001b[0m\u001b[0;34m\u001b[0m\u001b[0;34m\u001b[0m\u001b[0m\n",
      "\u001b[0;32mpandas/_libs/reduction.pyx\u001b[0m in \u001b[0;36mpandas._libs.reduction.compute_reduction\u001b[0;34m()\u001b[0m\n",
      "\u001b[0;32mpandas/_libs/reduction.pyx\u001b[0m in \u001b[0;36mpandas._libs.reduction.Reducer.get_result\u001b[0;34m()\u001b[0m\n",
      "\u001b[0;32m<timed exec>\u001b[0m in \u001b[0;36mhelper\u001b[0;34m(row)\u001b[0m\n",
      "\u001b[0;32m/global/u1/c/cheliu/exatrkx-neurips19_tf2/gnn-tracking/heptrkx/postprocess/trackfitter.py\u001b[0m in \u001b[0;36mconformal_mapping\u001b[0;34m(x, y, z)\u001b[0m\n\u001b[1;32m     35\u001b[0m     \u001b[0mp_zr0\u001b[0m \u001b[0;34m=\u001b[0m \u001b[0mnp\u001b[0m\u001b[0;34m.\u001b[0m\u001b[0mpolyfit\u001b[0m\u001b[0;34m(\u001b[0m\u001b[0mr3\u001b[0m\u001b[0;34m,\u001b[0m \u001b[0mz\u001b[0m\u001b[0;34m,\u001b[0m \u001b[0;36m1\u001b[0m\u001b[0;34m)\u001b[0m\u001b[0;34m\u001b[0m\u001b[0;34m\u001b[0m\u001b[0m\n\u001b[1;32m     36\u001b[0m     \u001b[0mp_zr\u001b[0m \u001b[0;34m=\u001b[0m \u001b[0mp_zr0\u001b[0m\u001b[0;34m[\u001b[0m\u001b[0;36m0\u001b[0m\u001b[0;34m]\u001b[0m\u001b[0;34m\u001b[0m\u001b[0;34m\u001b[0m\u001b[0m\n\u001b[0;32m---> 37\u001b[0;31m     \u001b[0mtheta\u001b[0m \u001b[0;34m=\u001b[0m \u001b[0mnp\u001b[0m\u001b[0;34m.\u001b[0m\u001b[0marccos\u001b[0m\u001b[0;34m(\u001b[0m\u001b[0mp_zr\u001b[0m\u001b[0;34m[\u001b[0m\u001b[0;36m0\u001b[0m\u001b[0;34m]\u001b[0m\u001b[0;34m)\u001b[0m\u001b[0;34m\u001b[0m\u001b[0;34m\u001b[0m\u001b[0m\n\u001b[0m\u001b[1;32m     38\u001b[0m     \u001b[0meta\u001b[0m \u001b[0;34m=\u001b[0m \u001b[0;34m-\u001b[0m\u001b[0mnp\u001b[0m\u001b[0;34m.\u001b[0m\u001b[0mlog\u001b[0m\u001b[0;34m(\u001b[0m\u001b[0mnp\u001b[0m\u001b[0;34m.\u001b[0m\u001b[0mtan\u001b[0m\u001b[0;34m(\u001b[0m\u001b[0mtheta\u001b[0m\u001b[0;34m/\u001b[0m\u001b[0;36m2.\u001b[0m\u001b[0;34m)\u001b[0m\u001b[0;34m)\u001b[0m\u001b[0;34m\u001b[0m\u001b[0;34m\u001b[0m\u001b[0m\n\u001b[1;32m     39\u001b[0m     \u001b[0mphi\u001b[0m \u001b[0;34m=\u001b[0m \u001b[0mmath\u001b[0m\u001b[0;34m.\u001b[0m\u001b[0marccos\u001b[0m\u001b[0;34m(\u001b[0m\u001b[0mb\u001b[0m\u001b[0;34m,\u001b[0m \u001b[0ma\u001b[0m\u001b[0;34m)\u001b[0m \u001b[0;34m*\u001b[0m \u001b[0mmath\u001b[0m\u001b[0;34m.\u001b[0m\u001b[0mcopysign\u001b[0m\u001b[0;34m(\u001b[0m\u001b[0mb\u001b[0m\u001b[0;34m)\u001b[0m\u001b[0;34m\u001b[0m\u001b[0;34m\u001b[0m\u001b[0m\n",
      "\u001b[0;31mIndexError\u001b[0m: invalid index to scalar variable."
     ]
    }
   ],
   "source": [
    "%%time\n",
    "def helper(row):    \n",
    "    pos_arr = []\n",
    "    for i in range(0, 9, 3):\n",
    "        a = row[i:i+3]\n",
    "        a = a.reset_index()\n",
    "        a = a.drop(labels='index', axis=1)\n",
    "        pos_arr.append(a)        \n",
    "    x, y, z = pos_arr[0], pos_arr[1], pos_arr[2]\n",
    "    x = x.to_numpy().flatten()\n",
    "    y = y.to_numpy().flatten()\n",
    "    z = z.to_numpy().flatten()\n",
    "    print(x)\n",
    "    print(y)\n",
    "    print(z)\n",
    "#     print(x**2 + y**2 + z**2)\n",
    "    return conformal_mapping(x, y, z)\n",
    "\n",
    "track_params = pos_df.apply(helper, axis=1)\n"
   ]
  },
  {
   "cell_type": "code",
   "execution_count": 10,
   "metadata": {},
   "outputs": [
    {
     "ename": "NameError",
     "evalue": "name 'track_params' is not defined",
     "output_type": "error",
     "traceback": [
      "\u001b[0;31m---------------------------------------------------------------------------\u001b[0m",
      "\u001b[0;31mNameError\u001b[0m                                 Traceback (most recent call last)",
      "\u001b[0;32m<ipython-input-10-fa3b2d207f2a>\u001b[0m in \u001b[0;36m<module>\u001b[0;34m\u001b[0m\n\u001b[0;32m----> 1\u001b[0;31m \u001b[0mtrack_params\u001b[0m\u001b[0;34m\u001b[0m\u001b[0;34m\u001b[0m\u001b[0m\n\u001b[0m",
      "\u001b[0;31mNameError\u001b[0m: name 'track_params' is not defined"
     ]
    }
   ],
   "source": [
    "track_params"
   ]
  },
  {
   "cell_type": "code",
   "execution_count": 12,
   "metadata": {},
   "outputs": [
    {
     "data": {
      "text/plain": [
       "array([(13.753137856405573, -470.9243526363415, 1.3570038259157016, nan, 0.07519954833984374),\n",
       "       (9.10607941472449, -90.06504391660023, 1.5084167966362725, 0.025426074908341516, 0.21843660278320312),\n",
       "       (8.4345542243816, -89.96138965205176, 1.4780059966694798, 0.014977942723598684, 0.28114599609375),\n",
       "       ...,\n",
       "       (2.8936392383016027, -5.703993319413549, -1.0921443149798846, 0.8517130976786559, 1.3369403320312498),\n",
       "       (2.134771330028002, -219.96455542137656, 1.4968386676408214, 1.0631199546908052, -0.37135861816406246),\n",
       "       (9.479395349665538, -18.369319500883627, 2.0661972778149247, 0.8684097386645122, -0.8834395751953125)],\n",
       "      dtype=object)"
      ]
     },
     "execution_count": 12,
     "metadata": {},
     "output_type": "execute_result"
    }
   ],
   "source": [
    "track_params.to_numpy()"
   ]
  },
  {
   "cell_type": "markdown",
   "metadata": {},
   "source": [
    "Clustering Triplets with DBSCAN\n",
    "--------------------------"
   ]
  },
  {
   "cell_type": "code",
   "execution_count": 13,
   "metadata": {},
   "outputs": [
    {
     "ename": "ValueError",
     "evalue": "setting an array element with a sequence.",
     "output_type": "error",
     "traceback": [
      "\u001b[0;31m---------------------------------------------------------------------------\u001b[0m",
      "\u001b[0;31mTypeError\u001b[0m                                 Traceback (most recent call last)",
      "\u001b[0;31mTypeError\u001b[0m: float() argument must be a string or a number, not 'tuple'",
      "\nThe above exception was the direct cause of the following exception:\n",
      "\u001b[0;31mValueError\u001b[0m                                Traceback (most recent call last)",
      "\u001b[0;32m<ipython-input-13-2f18691d67f4>\u001b[0m in \u001b[0;36m<module>\u001b[0;34m\u001b[0m\n\u001b[1;32m      1\u001b[0m \u001b[0mclf\u001b[0m \u001b[0;34m=\u001b[0m \u001b[0mDBSCAN\u001b[0m\u001b[0;34m(\u001b[0m\u001b[0meps\u001b[0m\u001b[0;34m=\u001b[0m\u001b[0;36m0.5\u001b[0m\u001b[0;34m,\u001b[0m \u001b[0mmin_samples\u001b[0m\u001b[0;34m=\u001b[0m\u001b[0;36m2\u001b[0m\u001b[0;34m)\u001b[0m\u001b[0;34m\u001b[0m\u001b[0;34m\u001b[0m\u001b[0m\n\u001b[0;32m----> 2\u001b[0;31m \u001b[0mclustering\u001b[0m \u001b[0;34m=\u001b[0m \u001b[0mclf\u001b[0m\u001b[0;34m.\u001b[0m\u001b[0mfit\u001b[0m\u001b[0;34m(\u001b[0m\u001b[0mtrack_params\u001b[0m\u001b[0;34m)\u001b[0m\u001b[0;34m\u001b[0m\u001b[0;34m\u001b[0m\u001b[0m\n\u001b[0m",
      "\u001b[0;32m~/.conda/envs/upgrade/lib/python3.7/site-packages/sklearn/cluster/_dbscan.py\u001b[0m in \u001b[0;36mfit\u001b[0;34m(self, X, y, sample_weight)\u001b[0m\n\u001b[1;32m    308\u001b[0m \u001b[0;34m\u001b[0m\u001b[0m\n\u001b[1;32m    309\u001b[0m         \"\"\"\n\u001b[0;32m--> 310\u001b[0;31m         \u001b[0mX\u001b[0m \u001b[0;34m=\u001b[0m \u001b[0mcheck_array\u001b[0m\u001b[0;34m(\u001b[0m\u001b[0mX\u001b[0m\u001b[0;34m,\u001b[0m \u001b[0maccept_sparse\u001b[0m\u001b[0;34m=\u001b[0m\u001b[0;34m'csr'\u001b[0m\u001b[0;34m)\u001b[0m\u001b[0;34m\u001b[0m\u001b[0;34m\u001b[0m\u001b[0m\n\u001b[0m\u001b[1;32m    311\u001b[0m \u001b[0;34m\u001b[0m\u001b[0m\n\u001b[1;32m    312\u001b[0m         \u001b[0;32mif\u001b[0m \u001b[0;32mnot\u001b[0m \u001b[0mself\u001b[0m\u001b[0;34m.\u001b[0m\u001b[0meps\u001b[0m \u001b[0;34m>\u001b[0m \u001b[0;36m0.0\u001b[0m\u001b[0;34m:\u001b[0m\u001b[0;34m\u001b[0m\u001b[0;34m\u001b[0m\u001b[0m\n",
      "\u001b[0;32m~/.conda/envs/upgrade/lib/python3.7/site-packages/sklearn/utils/validation.py\u001b[0m in \u001b[0;36mcheck_array\u001b[0;34m(array, accept_sparse, accept_large_sparse, dtype, order, copy, force_all_finite, ensure_2d, allow_nd, ensure_min_samples, ensure_min_features, warn_on_dtype, estimator)\u001b[0m\n\u001b[1;32m    529\u001b[0m                     \u001b[0marray\u001b[0m \u001b[0;34m=\u001b[0m \u001b[0marray\u001b[0m\u001b[0;34m.\u001b[0m\u001b[0mastype\u001b[0m\u001b[0;34m(\u001b[0m\u001b[0mdtype\u001b[0m\u001b[0;34m,\u001b[0m \u001b[0mcasting\u001b[0m\u001b[0;34m=\u001b[0m\u001b[0;34m\"unsafe\"\u001b[0m\u001b[0;34m,\u001b[0m \u001b[0mcopy\u001b[0m\u001b[0;34m=\u001b[0m\u001b[0;32mFalse\u001b[0m\u001b[0;34m)\u001b[0m\u001b[0;34m\u001b[0m\u001b[0;34m\u001b[0m\u001b[0m\n\u001b[1;32m    530\u001b[0m                 \u001b[0;32melse\u001b[0m\u001b[0;34m:\u001b[0m\u001b[0;34m\u001b[0m\u001b[0;34m\u001b[0m\u001b[0m\n\u001b[0;32m--> 531\u001b[0;31m                     \u001b[0marray\u001b[0m \u001b[0;34m=\u001b[0m \u001b[0mnp\u001b[0m\u001b[0;34m.\u001b[0m\u001b[0masarray\u001b[0m\u001b[0;34m(\u001b[0m\u001b[0marray\u001b[0m\u001b[0;34m,\u001b[0m \u001b[0morder\u001b[0m\u001b[0;34m=\u001b[0m\u001b[0morder\u001b[0m\u001b[0;34m,\u001b[0m \u001b[0mdtype\u001b[0m\u001b[0;34m=\u001b[0m\u001b[0mdtype\u001b[0m\u001b[0;34m)\u001b[0m\u001b[0;34m\u001b[0m\u001b[0;34m\u001b[0m\u001b[0m\n\u001b[0m\u001b[1;32m    532\u001b[0m             \u001b[0;32mexcept\u001b[0m \u001b[0mComplexWarning\u001b[0m\u001b[0;34m:\u001b[0m\u001b[0;34m\u001b[0m\u001b[0;34m\u001b[0m\u001b[0m\n\u001b[1;32m    533\u001b[0m                 raise ValueError(\"Complex data not supported\\n\"\n",
      "\u001b[0;32m~/.conda/envs/upgrade/lib/python3.7/site-packages/numpy/core/_asarray.py\u001b[0m in \u001b[0;36masarray\u001b[0;34m(a, dtype, order)\u001b[0m\n\u001b[1;32m     83\u001b[0m \u001b[0;34m\u001b[0m\u001b[0m\n\u001b[1;32m     84\u001b[0m     \"\"\"\n\u001b[0;32m---> 85\u001b[0;31m     \u001b[0;32mreturn\u001b[0m \u001b[0marray\u001b[0m\u001b[0;34m(\u001b[0m\u001b[0ma\u001b[0m\u001b[0;34m,\u001b[0m \u001b[0mdtype\u001b[0m\u001b[0;34m,\u001b[0m \u001b[0mcopy\u001b[0m\u001b[0;34m=\u001b[0m\u001b[0;32mFalse\u001b[0m\u001b[0;34m,\u001b[0m \u001b[0morder\u001b[0m\u001b[0;34m=\u001b[0m\u001b[0morder\u001b[0m\u001b[0;34m)\u001b[0m\u001b[0;34m\u001b[0m\u001b[0;34m\u001b[0m\u001b[0m\n\u001b[0m\u001b[1;32m     86\u001b[0m \u001b[0;34m\u001b[0m\u001b[0m\n\u001b[1;32m     87\u001b[0m \u001b[0;34m\u001b[0m\u001b[0m\n",
      "\u001b[0;32m~/.conda/envs/upgrade/lib/python3.7/site-packages/pandas/core/series.py\u001b[0m in \u001b[0;36m__array__\u001b[0;34m(self, dtype)\u001b[0m\n\u001b[1;32m    752\u001b[0m               dtype='datetime64[ns]')\n\u001b[1;32m    753\u001b[0m         \"\"\"\n\u001b[0;32m--> 754\u001b[0;31m         \u001b[0;32mreturn\u001b[0m \u001b[0mnp\u001b[0m\u001b[0;34m.\u001b[0m\u001b[0masarray\u001b[0m\u001b[0;34m(\u001b[0m\u001b[0mself\u001b[0m\u001b[0;34m.\u001b[0m\u001b[0marray\u001b[0m\u001b[0;34m,\u001b[0m \u001b[0mdtype\u001b[0m\u001b[0;34m)\u001b[0m\u001b[0;34m\u001b[0m\u001b[0;34m\u001b[0m\u001b[0m\n\u001b[0m\u001b[1;32m    755\u001b[0m \u001b[0;34m\u001b[0m\u001b[0m\n\u001b[1;32m    756\u001b[0m     \u001b[0;31m# ----------------------------------------------------------------------\u001b[0m\u001b[0;34m\u001b[0m\u001b[0;34m\u001b[0m\u001b[0;34m\u001b[0m\u001b[0m\n",
      "\u001b[0;32m~/.conda/envs/upgrade/lib/python3.7/site-packages/numpy/core/_asarray.py\u001b[0m in \u001b[0;36masarray\u001b[0;34m(a, dtype, order)\u001b[0m\n\u001b[1;32m     83\u001b[0m \u001b[0;34m\u001b[0m\u001b[0m\n\u001b[1;32m     84\u001b[0m     \"\"\"\n\u001b[0;32m---> 85\u001b[0;31m     \u001b[0;32mreturn\u001b[0m \u001b[0marray\u001b[0m\u001b[0;34m(\u001b[0m\u001b[0ma\u001b[0m\u001b[0;34m,\u001b[0m \u001b[0mdtype\u001b[0m\u001b[0;34m,\u001b[0m \u001b[0mcopy\u001b[0m\u001b[0;34m=\u001b[0m\u001b[0;32mFalse\u001b[0m\u001b[0;34m,\u001b[0m \u001b[0morder\u001b[0m\u001b[0;34m=\u001b[0m\u001b[0morder\u001b[0m\u001b[0;34m)\u001b[0m\u001b[0;34m\u001b[0m\u001b[0;34m\u001b[0m\u001b[0m\n\u001b[0m\u001b[1;32m     86\u001b[0m \u001b[0;34m\u001b[0m\u001b[0m\n\u001b[1;32m     87\u001b[0m \u001b[0;34m\u001b[0m\u001b[0m\n",
      "\u001b[0;32m~/.conda/envs/upgrade/lib/python3.7/site-packages/pandas/core/arrays/numpy_.py\u001b[0m in \u001b[0;36m__array__\u001b[0;34m(self, dtype)\u001b[0m\n\u001b[1;32m    182\u001b[0m \u001b[0;34m\u001b[0m\u001b[0m\n\u001b[1;32m    183\u001b[0m     \u001b[0;32mdef\u001b[0m \u001b[0m__array__\u001b[0m\u001b[0;34m(\u001b[0m\u001b[0mself\u001b[0m\u001b[0;34m,\u001b[0m \u001b[0mdtype\u001b[0m\u001b[0;34m=\u001b[0m\u001b[0;32mNone\u001b[0m\u001b[0;34m)\u001b[0m \u001b[0;34m->\u001b[0m \u001b[0mnp\u001b[0m\u001b[0;34m.\u001b[0m\u001b[0mndarray\u001b[0m\u001b[0;34m:\u001b[0m\u001b[0;34m\u001b[0m\u001b[0;34m\u001b[0m\u001b[0m\n\u001b[0;32m--> 184\u001b[0;31m         \u001b[0;32mreturn\u001b[0m \u001b[0mnp\u001b[0m\u001b[0;34m.\u001b[0m\u001b[0masarray\u001b[0m\u001b[0;34m(\u001b[0m\u001b[0mself\u001b[0m\u001b[0;34m.\u001b[0m\u001b[0m_ndarray\u001b[0m\u001b[0;34m,\u001b[0m \u001b[0mdtype\u001b[0m\u001b[0;34m=\u001b[0m\u001b[0mdtype\u001b[0m\u001b[0;34m)\u001b[0m\u001b[0;34m\u001b[0m\u001b[0;34m\u001b[0m\u001b[0m\n\u001b[0m\u001b[1;32m    185\u001b[0m \u001b[0;34m\u001b[0m\u001b[0m\n\u001b[1;32m    186\u001b[0m     \u001b[0m_HANDLED_TYPES\u001b[0m \u001b[0;34m=\u001b[0m \u001b[0;34m(\u001b[0m\u001b[0mnp\u001b[0m\u001b[0;34m.\u001b[0m\u001b[0mndarray\u001b[0m\u001b[0;34m,\u001b[0m \u001b[0mnumbers\u001b[0m\u001b[0;34m.\u001b[0m\u001b[0mNumber\u001b[0m\u001b[0;34m)\u001b[0m\u001b[0;34m\u001b[0m\u001b[0;34m\u001b[0m\u001b[0m\n",
      "\u001b[0;32m~/.conda/envs/upgrade/lib/python3.7/site-packages/numpy/core/_asarray.py\u001b[0m in \u001b[0;36masarray\u001b[0;34m(a, dtype, order)\u001b[0m\n\u001b[1;32m     83\u001b[0m \u001b[0;34m\u001b[0m\u001b[0m\n\u001b[1;32m     84\u001b[0m     \"\"\"\n\u001b[0;32m---> 85\u001b[0;31m     \u001b[0;32mreturn\u001b[0m \u001b[0marray\u001b[0m\u001b[0;34m(\u001b[0m\u001b[0ma\u001b[0m\u001b[0;34m,\u001b[0m \u001b[0mdtype\u001b[0m\u001b[0;34m,\u001b[0m \u001b[0mcopy\u001b[0m\u001b[0;34m=\u001b[0m\u001b[0;32mFalse\u001b[0m\u001b[0;34m,\u001b[0m \u001b[0morder\u001b[0m\u001b[0;34m=\u001b[0m\u001b[0morder\u001b[0m\u001b[0;34m)\u001b[0m\u001b[0;34m\u001b[0m\u001b[0;34m\u001b[0m\u001b[0m\n\u001b[0m\u001b[1;32m     86\u001b[0m \u001b[0;34m\u001b[0m\u001b[0m\n\u001b[1;32m     87\u001b[0m \u001b[0;34m\u001b[0m\u001b[0m\n",
      "\u001b[0;31mValueError\u001b[0m: setting an array element with a sequence."
     ]
    }
   ],
   "source": [
    "clf = DBSCAN(eps=0.5, min_samples=2)\n",
    "clustering = clf.fit(track_params)"
   ]
  },
  {
   "cell_type": "code",
   "execution_count": null,
   "metadata": {},
   "outputs": [],
   "source": []
  },
  {
   "cell_type": "code",
   "execution_count": null,
   "metadata": {},
   "outputs": [],
   "source": []
  },
  {
   "cell_type": "code",
   "execution_count": null,
   "metadata": {},
   "outputs": [],
   "source": []
  },
  {
   "cell_type": "code",
   "execution_count": null,
   "metadata": {},
   "outputs": [],
   "source": []
  },
  {
   "cell_type": "code",
   "execution_count": null,
   "metadata": {},
   "outputs": [],
   "source": []
  },
  {
   "cell_type": "code",
   "execution_count": null,
   "metadata": {},
   "outputs": [],
   "source": []
  },
  {
   "cell_type": "code",
   "execution_count": null,
   "metadata": {},
   "outputs": [],
   "source": []
  }
 ],
 "metadata": {
  "kernelspec": {
   "display_name": "upgrade",
   "language": "python",
   "name": "upgrade"
  },
  "language_info": {
   "codemirror_mode": {
    "name": "ipython",
    "version": 3
   },
   "file_extension": ".py",
   "mimetype": "text/x-python",
   "name": "python",
   "nbconvert_exporter": "python",
   "pygments_lexer": "ipython3",
   "version": "3.7.6"
  }
 },
 "nbformat": 4,
 "nbformat_minor": 4
}
